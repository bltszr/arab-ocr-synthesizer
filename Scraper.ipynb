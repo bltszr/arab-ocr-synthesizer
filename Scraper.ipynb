{
  "nbformat": 4,
  "nbformat_minor": 0,
  "metadata": {
    "colab": {
      "provenance": []
    },
    "kernelspec": {
      "name": "python3",
      "display_name": "Python 3"
    },
    "language_info": {
      "name": "python"
    }
  },
  "cells": [
    {
      "cell_type": "code",
      "source": [
        "import requests\n",
        "from bs4 import BeautifulSoup\n",
        "import os\n",
        "from urllib.parse import urlparse\n",
        "import json"
      ],
      "metadata": {
        "id": "7ce6X0UiFh6e"
      },
      "execution_count": null,
      "outputs": []
    },
    {
      "cell_type": "code",
      "source": [
        "from google.colab import drive\n",
        "drive.mount('/content/drive')"
      ],
      "metadata": {
        "colab": {
          "base_uri": "https://localhost:8080/"
        },
        "id": "snnHTmJ4n4U0",
        "outputId": "dc319e6b-b3af-4bed-a4b0-21e6b4daa416"
      },
      "execution_count": null,
      "outputs": [
        {
          "output_type": "stream",
          "name": "stdout",
          "text": [
            "Drive already mounted at /content/drive; to attempt to forcibly remount, call drive.mount(\"/content/drive\", force_remount=True).\n"
          ]
        }
      ]
    },
    {
      "cell_type": "code",
      "source": [
        "root_dir = '/content/drive/Shareddrives/Transliterasi Arab Pegon/TA OCR/Dataset/scraped'"
      ],
      "metadata": {
        "id": "jKwuJtzEIhKo"
      },
      "execution_count": null,
      "outputs": []
    },
    {
      "cell_type": "markdown",
      "source": [
        "# WordPress"
      ],
      "metadata": {
        "id": "6w6KjdAfOGtT"
      }
    },
    {
      "cell_type": "code",
      "source": [
        "category = \"nahu-sharaf\"\n",
        "# URL of the category page to scrape\n",
        "category_url = f\"https://www.fiqih.co.id/category/{category}/\"\n",
        "domain = urlparse(category_url).netloc"
      ],
      "metadata": {
        "id": "-BGmAUWxKmYz"
      },
      "execution_count": null,
      "outputs": []
    },
    {
      "cell_type": "code",
      "execution_count": null,
      "metadata": {
        "colab": {
          "base_uri": "https://localhost:8080/"
        },
        "id": "AI7dfC8b7nHJ",
        "outputId": "4ee578c1-42bb-4504-aa0f-9375ee6e087c"
      },
      "outputs": [
        {
          "output_type": "stream",
          "name": "stdout",
          "text": [
            "Saved /content/drive/Shareddrives/Transliterasi Arab Pegon/TA OCR/Dataset/scraped/www.fiqih.co.id/nahu-sharaf/Bab Taukid dan Badal Dengan Terjemahan Jawa Serta Indonesia.txt\n",
            "Saved /content/drive/Shareddrives/Transliterasi Arab Pegon/TA OCR/Dataset/scraped/www.fiqih.co.id/nahu-sharaf/Bab Naat Dan Atfaf Matan Al-Jurumiyah Serta penjelasannya.txt\n",
            "Saved /content/drive/Shareddrives/Transliterasi Arab Pegon/TA OCR/Dataset/scraped/www.fiqih.co.id/nahu-sharaf/Awamil Yang Masuk Pada Mubtada Dan Khobar perlu faham.txt\n",
            "Saved /content/drive/Shareddrives/Transliterasi Arab Pegon/TA OCR/Dataset/scraped/www.fiqih.co.id/nahu-sharaf/Mubtada dan Khobar Matan Jurumiyah Terjemah Lughot Jawa.txt\n",
            "Saved /content/drive/Shareddrives/Transliterasi Arab Pegon/TA OCR/Dataset/scraped/www.fiqih.co.id/nahu-sharaf/Naib Fa'il Yakni Bab Maf’ul yang Fa’ilnya Tidak Disebutkan.txt\n",
            "Saved /content/drive/Shareddrives/Transliterasi Arab Pegon/TA OCR/Dataset/scraped/www.fiqih.co.id/nahu-sharaf/Bab Fa’il Terjemah dan Penjelasannya Dalam Bahasa Indonesia.txt\n",
            "Saved /content/drive/Shareddrives/Transliterasi Arab Pegon/TA OCR/Dataset/scraped/www.fiqih.co.id/nahu-sharaf/Bab Afal Dan  Bab Marfu’atil-Asma Terjemah Matan Jurumiyah.txt\n",
            "Saved /content/drive/Shareddrives/Transliterasi Arab Pegon/TA OCR/Dataset/scraped/www.fiqih.co.id/nahu-sharaf/Ruba’i Mazid Uraian Warna Satu Sapai Warna Dua.txt\n",
            "Saved /content/drive/Shareddrives/Transliterasi Arab Pegon/TA OCR/Dataset/scraped/www.fiqih.co.id/nahu-sharaf/Ruba’i Mujarrod Yang Lazim dan Mulhaqnya Secara Rinci.txt\n",
            "Saved /content/drive/Shareddrives/Transliterasi Arab Pegon/TA OCR/Dataset/scraped/www.fiqih.co.id/nahu-sharaf/Tsulatsi Mazid Warna Tiga Mazid 3 Bab Awal sampai dengan Empat.txt\n",
            "Saved /content/drive/Shareddrives/Transliterasi Arab Pegon/TA OCR/Dataset/scraped/www.fiqih.co.id/nahu-sharaf/Tsulatsi Mazid Warna Dua Mazid 2 Bab Awal sampai dengan Lima.txt\n",
            "Saved /content/drive/Shareddrives/Transliterasi Arab Pegon/TA OCR/Dataset/scraped/www.fiqih.co.id/nahu-sharaf/Tsulatsi Mazid Warna Satu Bab Awal Sampai Bab Tiga.txt\n",
            "Saved /content/drive/Shareddrives/Transliterasi Arab Pegon/TA OCR/Dataset/scraped/www.fiqih.co.id/nahu-sharaf/Tsulatsi Mujarrod Bab Lima sampai dengan bab Enam.txt\n",
            "Saved /content/drive/Shareddrives/Transliterasi Arab Pegon/TA OCR/Dataset/scraped/www.fiqih.co.id/nahu-sharaf/Isim Fa'il Bab Empat Lazim Awal sampai dengan Lazim Sepuluh.txt\n",
            "Saved /content/drive/Shareddrives/Transliterasi Arab Pegon/TA OCR/Dataset/scraped/www.fiqih.co.id/nahu-sharaf/Bab Empat Lazim Empat Tsulatsi Mujarrod (4 sampai ke 7).txt\n",
            "Saved /content/drive/Shareddrives/Transliterasi Arab Pegon/TA OCR/Dataset/scraped/www.fiqih.co.id/nahu-sharaf/Bab Empat Lazim Delapan Tashrif Tsulatsi Mujarrod (Lazim 8 s-d 10).txt\n",
            "Saved /content/drive/Shareddrives/Transliterasi Arab Pegon/TA OCR/Dataset/scraped/www.fiqih.co.id/nahu-sharaf/Tsulatsi Mujarrod Bab Empat Muta’ad dan Lazim 1 sampai 3.txt\n",
            "Saved /content/drive/Shareddrives/Transliterasi Arab Pegon/TA OCR/Dataset/scraped/www.fiqih.co.id/nahu-sharaf/Tsulatsi Mujarrod Bab Tiga Muta'ad & Lazim untuk pelajaran santro.txt\n",
            "Saved /content/drive/Shareddrives/Transliterasi Arab Pegon/TA OCR/Dataset/scraped/www.fiqih.co.id/nahu-sharaf/Tsulatsi Mujarrod Bab Tiga Muta'ad & Lazim untuk pelajaran santro.txt\n",
            "Saved /content/drive/Shareddrives/Transliterasi Arab Pegon/TA OCR/Dataset/scraped/www.fiqih.co.id/nahu-sharaf/Tsulatsi Mujarrod Bab Dua (Muta'ad + Lazim) dan nadzom.txt\n",
            "Saved /content/drive/Shareddrives/Transliterasi Arab Pegon/TA OCR/Dataset/scraped/www.fiqih.co.id/nahu-sharaf/Isim Zaman, Makan, Alat dan Fiil Mudhori’ Dimasuki Lam Juhud.txt\n",
            "Saved /content/drive/Shareddrives/Transliterasi Arab Pegon/TA OCR/Dataset/scraped/www.fiqih.co.id/nahu-sharaf/Isim Maf’ul, Fi’il Amar, Fi’il Nahyi dan Tashripannya.txt\n",
            "Saved /content/drive/Shareddrives/Transliterasi Arab Pegon/TA OCR/Dataset/scraped/www.fiqih.co.id/nahu-sharaf/Isim Masdar, Dhomir, Faa’il, Isyarah dan Tashripannya.txt\n",
            "Saved /content/drive/Shareddrives/Transliterasi Arab Pegon/TA OCR/Dataset/scraped/www.fiqih.co.id/nahu-sharaf/Materi Pelajaran ; Amil Jazm Dan Nashab Masuk Pada Fiil Mudhori’.txt\n",
            "Saved /content/drive/Shareddrives/Transliterasi Arab Pegon/TA OCR/Dataset/scraped/www.fiqih.co.id/nahu-sharaf/Tashrif Fiil Mudhori’ Tsulatsi Mujarrod Bab Awal Yang Muta’ad.txt\n",
            "Saved /content/drive/Shareddrives/Transliterasi Arab Pegon/TA OCR/Dataset/scraped/www.fiqih.co.id/nahu-sharaf/Tashrif Tsulatsi Mujarrod Bab Awal Tashrif Yang Muta’ad.txt\n",
            "Saved /content/drive/Shareddrives/Transliterasi Arab Pegon/TA OCR/Dataset/scraped/www.fiqih.co.id/nahu-sharaf/Yang Diirobi Dengan Huruf Kalimat Itu Ada Empat Macam.txt\n",
            "Saved /content/drive/Shareddrives/Transliterasi Arab Pegon/TA OCR/Dataset/scraped/www.fiqih.co.id/nahu-sharaf/Tiga Kalimat Yang Alamat I’robnya Dikecualikan di Fasl almu'robat.txt\n",
            "Saved /content/drive/Shareddrives/Transliterasi Arab Pegon/TA OCR/Dataset/scraped/www.fiqih.co.id/nahu-sharaf/Al-Mu’robatu Qismani Diterjemahkan Buat Dipelajari.txt\n",
            "Saved /content/drive/Shareddrives/Transliterasi Arab Pegon/TA OCR/Dataset/scraped/www.fiqih.co.id/nahu-sharaf/I’rab Jar dan Jazm Matan Al-Jurumiyah Bab Ma’rifat Alamat Al-I’rab.txt\n",
            "Saved /content/drive/Shareddrives/Transliterasi Arab Pegon/TA OCR/Dataset/scraped/www.fiqih.co.id/nahu-sharaf/Irab Nashab Terjamahan Matan Al-Jurumiyah Bab Ma’rifat Alamat Al-I’rab.txt\n",
            "Saved /content/drive/Shareddrives/Transliterasi Arab Pegon/TA OCR/Dataset/scraped/www.fiqih.co.id/nahu-sharaf/Terjemahan; Bab Ma'rifat Alamatil I’rab, Terjemah Matan Jurumiyah.txt\n",
            "Saved /content/drive/Shareddrives/Transliterasi Arab Pegon/TA OCR/Dataset/scraped/www.fiqih.co.id/nahu-sharaf/Materi tentang; Bab Al-I’rab Terjemahan Matan La-Jurumiyah.txt\n",
            "Saved /content/drive/Shareddrives/Transliterasi Arab Pegon/TA OCR/Dataset/scraped/www.fiqih.co.id/nahu-sharaf/Fi’il Nahi, Pengertian, Cara Membentuk dan Contohnya.txt\n",
            "Saved /content/drive/Shareddrives/Transliterasi Arab Pegon/TA OCR/Dataset/scraped/www.fiqih.co.id/nahu-sharaf/Bab Kalam Terjemah Matan Jurmiyah Pelajaran Nahwu.txt\n",
            "Saved /content/drive/Shareddrives/Transliterasi Arab Pegon/TA OCR/Dataset/scraped/www.fiqih.co.id/nahu-sharaf/Pengertian Kalam Dalam Ilmu Nahwu yang perlu difahami.txt\n",
            "Saved /content/drive/Shareddrives/Transliterasi Arab Pegon/TA OCR/Dataset/scraped/www.fiqih.co.id/nahu-sharaf/Pengertian I’rab dalam ilmu nahwu dan ciri-cirinya i'rob.txt\n",
            "Saved /content/drive/Shareddrives/Transliterasi Arab Pegon/TA OCR/Dataset/scraped/www.fiqih.co.id/nahu-sharaf/Fiil Amar, Pengertian,  Penjelasan dan Beberapa Contohnya.txt\n",
            "Saved /content/drive/Shareddrives/Transliterasi Arab Pegon/TA OCR/Dataset/scraped/www.fiqih.co.id/nahu-sharaf/Fiil Mudhori, Pengertian, Beberapa contoh dan Pejelasannya.txt\n",
            "Saved /content/drive/Shareddrives/Transliterasi Arab Pegon/TA OCR/Dataset/scraped/www.fiqih.co.id/nahu-sharaf/Fiil Madhi, Pengertian, Beberapa contoh dan Pejelasannya.txt\n",
            "Saved /content/drive/Shareddrives/Transliterasi Arab Pegon/TA OCR/Dataset/scraped/www.fiqih.co.id/nahu-sharaf/Bab Maf’ul ma’ah Dan Mahfudzotil Asma Disertai Terjemah.txt\n",
            "Saved /content/drive/Shareddrives/Transliterasi Arab Pegon/TA OCR/Dataset/scraped/www.fiqih.co.id/nahu-sharaf/Bab Al-Munada dan Maf’ul min ajlih Beserta Terjemahannya.txt\n",
            "Saved /content/drive/Shareddrives/Transliterasi Arab Pegon/TA OCR/Dataset/scraped/www.fiqih.co.id/nahu-sharaf/Bab Al-Istitsna dan Laa disertai Terjemahannya lengkap.txt\n",
            "Saved /content/drive/Shareddrives/Transliterasi Arab Pegon/TA OCR/Dataset/scraped/www.fiqih.co.id/nahu-sharaf/Bab Haal dan Tamyiz Disertai Terjemahannya dan penjelasan.txt\n",
            "Saved /content/drive/Shareddrives/Transliterasi Arab Pegon/TA OCR/Dataset/scraped/www.fiqih.co.id/nahu-sharaf/Bab Mashdar, Dzorof Zaman Dan Dzorof Makan Disertai Terjemahannya.txt\n"
          ]
        }
      ],
      "source": [
        "# Make a GET request to the category page and extract the HTML source code\n",
        "response = requests.get(category_url)\n",
        "soup = BeautifulSoup(response.content, \"html.parser\")\n",
        "\n",
        "# Find the total number of pages in the category\n",
        "total_pages = int(sorted([x.text for x in soup.select(\"a.page-numbers\")])[-1])\n",
        "\n",
        "scrape_dir = os.path.join(root_dir, domain, category)\n",
        "os.makedirs(scrape_dir, exist_ok=True)\n",
        "# Loop through each page in the category\n",
        "for page in range(1, total_pages+1):\n",
        "  page_url = category_url + \"page/\" + str(page) + \"/\"\n",
        "  page_response = requests.get(page_url)\n",
        "  page_soup = BeautifulSoup(page_response.content, \"html.parser\")\n",
        "\n",
        "  # Find all the links to individual post pages on the current page\n",
        "  # post_links = page_soup.select(f\"a[href*='/{category}/']\")\n",
        "  post_links = page_soup.select(f\".entry-title > a\")\n",
        "  # Loop through each post link and extract the text content of the post\n",
        "  for post_link in post_links:\n",
        "    # print(post_link)\n",
        "    post_url = post_link[\"href\"]\n",
        "    post_response = requests.get(post_url)\n",
        "    post_soup = BeautifulSoup(post_response.content, \"html.parser\")\n",
        "    post_title = post_soup.find(\"title\").text.strip()\n",
        "    post_content = post_soup.find(\"div\", {\"class\": \"entry-content\"}).text.strip()\n",
        "\n",
        "    # Create a file with the post title and save the post content to it\n",
        "    filename = post_title.replace(\"/\", \"-\") + \".txt\"\n",
        "    filepath = os.path.join(scrape_dir, filename)\n",
        "    metadata_filename = filename.replace('.txt', '.metadata.json')\n",
        "    metadata_filepath = os.path.join(scrape_dir, metadata_filename)\n",
        "    with open(filepath, \"w\") as f:\n",
        "      f.write(post_content)\n",
        "    with open(metadata_filepath, 'w') as f:\n",
        "      json.dump({'source': post_url}, f)\n",
        "    print(f\"Saved {filepath}\")"
      ]
    },
    {
      "cell_type": "markdown",
      "source": [
        "# Blogspot"
      ],
      "metadata": {
        "id": "5ms7lppXOOan"
      }
    },
    {
      "cell_type": "code",
      "source": [
        "post_links = [f\"http://ilmusofa.blogspot.com/2017/12/ngaji-kitab-nahwu-imrithi-bag{num}.html\" for num in range(1, 8)] +\\\n",
        "             ['http://mt-syahida.blogspot.com/2022/06/terjemah-talimul-mutaallim-pegon.html',\n",
        "              'https://mt-syahida.blogspot.com/2020/06/durusul-fiqhiyyah-juz-1_15.html',\n",
        "              'http://mt-syahida.blogspot.com/2021/04/supaya-bisa-membayar-hutang-berapapun.html',\n",
        "              'https://aksaratube.blogspot.com/2017/11/serat-bayanullah-pegon.html',\n",
        "              'https://aksaratube.blogspot.com/2017/11/serat-tegesipun-aksara-alip.html',\n",
        "              'https://aksaratube.blogspot.com/2017/11/kitab-sunda-waruga-jagad-pegon.html',\n",
        "              'https://aksaratube.blogspot.com/2021/02/aksara-pegon-dalam-tradisi-nu.html',\n",
        "              'https://mt-syahida.blogspot.com/2020/06/terjemah-safinatun-naja_22.html',\n",
        "              'https://mt-syahida.blogspot.com/2020/06/terjemah-alhikam-bag-2.html',\n",
        "              'https://mt-syahida.blogspot.com/2020/05/terjemah-alhikam.html',\n",
        "              'https://mt-syahida.blogspot.com/2021/02/manfaat-dan-keutamaan-siwak-bersiwak.html',\n",
        "              'https://mt-syahida.blogspot.com/2020/09/jawahirul-maani.html',\n",
        "              'https://mt-syahida.blogspot.com/2020/05/tahlil-gunung-jati.html',\n",
        "              'https://mt-syahida.blogspot.com/2020/06/aqidatul-awam.html',\n",
        "              'https://mt-syahida.blogspot.com/2016/10/lubabul-hadits.html',\n",
        "              'https://mt-syahida.blogspot.com/2020/06/al-hikam-pegon.html',\n",
        "              'https://mt-syahida.blogspot.com/2020/06/terjemah-safinatun-naja_22.html',\n",
        "              'https://mt-syahida.blogspot.com/2019/08/silsilah-wali-songo.html',\n",
        "              'https://mt-syahida.blogspot.com/2018/10/cara-praktek-sholat-ghoib.html',\n",
        "              'https://mt-syahida.blogspot.com/2017/07/toriqoh-khodliriyyah.html',\n",
        "              'https://mt-syahida.blogspot.com/2018/03/khasiat-surat-al-fatihah.html',\n",
        "              'https://mt-syahida.blogspot.com/2017/07/solawat-sholawat-segaf.html',\n",
        "              'https://mt-syahida.blogspot.com/2018/06/do-jaljalut.html',\n",
        "              'https://mt-syahida.blogspot.com/2017/07/wiridan-bada-maghrib-dan-shubuh.html',\n",
        "              'https://mt-syahida.blogspot.com/2017/07/fatihah-jamiah.html',\n",
        "              'https://mt-syahida.blogspot.com/2017/01/nama2-kitab-aswaja-ahli-sunnah-wal.html',\n",
        "              'https://mt-syahida.blogspot.com/2016/12/keistimewaan-memperingati-maulid-nabi.html',\n",
        "              'https://mt-syahida.blogspot.com/2016/11/hizb-nashr.html',\n",
        "              'https://mt-syahida.blogspot.com/2016/10/blog-post.html',\n",
        "              'https://mt-syahida.blogspot.com/2017/01/do-untuk-kemaslahatan-ummat-rosululloh.html',\n",
        "              'https://mt-syahida.blogspot.com/2016/05/kitab-as-syamail-karya-imam-turmudzi.html',]\n",
        "\n",
        "for post_link in post_links:\n",
        "    domain = urlparse(post_link).netloc\n",
        "    scrape_dir = os.path.join(root_dir, domain)\n",
        "    os.makedirs(scrape_dir, exist_ok=True)\n",
        "    post_response = requests.get(post_link)\n",
        "    post_soup = BeautifulSoup(post_response.content, \"html.parser\")\n",
        "    post_title = post_soup.select(\".post-title.entry-title\")[0].text.strip()\n",
        "    post_content = post_soup.find(\"div\", {\"class\": [\"post-body\", \"entry-content\"]}).text.strip()\n",
        "\n",
        "    # Create a file with the post title and save the post content to it\n",
        "    filename = post_title.replace(\"/\", \"-\") + \".txt\"\n",
        "    filepath = os.path.join(scrape_dir, filename)\n",
        "    metadata_filename = filename.replace('.txt', '.metadata.json')\n",
        "    metadata_filepath = os.path.join(scrape_dir, metadata_filename)\n",
        "    with open(filepath, \"w\") as f:\n",
        "      f.write(post_content)\n",
        "    with open(metadata_filepath, 'w') as f:\n",
        "      json.dump({'source': post_link}, f)\n",
        "    print(f\"Saved {filepath}\")"
      ],
      "metadata": {
        "colab": {
          "base_uri": "https://localhost:8080/"
        },
        "id": "M2T9RdrkP7rV",
        "outputId": "ead51917-3a6f-4b24-b83e-3b4d2e22a800"
      },
      "execution_count": null,
      "outputs": [
        {
          "output_type": "stream",
          "name": "stdout",
          "text": [
            "Saved /content/drive/Shareddrives/Transliterasi Arab Pegon/TA OCR/Dataset/scraped/ilmusofa.blogspot.com/NGAJI KITAB NAHWU IMRITHI Bag.1.txt\n",
            "Saved /content/drive/Shareddrives/Transliterasi Arab Pegon/TA OCR/Dataset/scraped/ilmusofa.blogspot.com/NGAJI KITAB NAHWU IMRITHI Bag.2.txt\n",
            "Saved /content/drive/Shareddrives/Transliterasi Arab Pegon/TA OCR/Dataset/scraped/ilmusofa.blogspot.com/NGAJI KITAB NAHWU IMRITHI Bag.3.txt\n",
            "Saved /content/drive/Shareddrives/Transliterasi Arab Pegon/TA OCR/Dataset/scraped/ilmusofa.blogspot.com/NGAJI KITAB NAHWU IMRITHI Bag.4.txt\n",
            "Saved /content/drive/Shareddrives/Transliterasi Arab Pegon/TA OCR/Dataset/scraped/ilmusofa.blogspot.com/NGAJI KITAB NAHWU IMRITHI Bag.5.txt\n",
            "Saved /content/drive/Shareddrives/Transliterasi Arab Pegon/TA OCR/Dataset/scraped/ilmusofa.blogspot.com/NGAJI KITAB NAHWU IMRITHI Bag.6.txt\n",
            "Saved /content/drive/Shareddrives/Transliterasi Arab Pegon/TA OCR/Dataset/scraped/ilmusofa.blogspot.com/NGAJI KITAB NAHWU IMRITHI Bag.7.txt\n",
            "Saved /content/drive/Shareddrives/Transliterasi Arab Pegon/TA OCR/Dataset/scraped/mt-syahida.blogspot.com/ترجمة تعليم المتعلم فيڬون.txt\n",
            "Saved /content/drive/Shareddrives/Transliterasi Arab Pegon/TA OCR/Dataset/scraped/mt-syahida.blogspot.com/Durusul Fiqhiyyah juz 1.txt\n",
            "Saved /content/drive/Shareddrives/Transliterasi Arab Pegon/TA OCR/Dataset/scraped/mt-syahida.blogspot.com/SUPAYA BISA MEMBAYAR HUTANG BERAPAPUN JUMLAHNYA.txt\n",
            "Saved /content/drive/Shareddrives/Transliterasi Arab Pegon/TA OCR/Dataset/scraped/aksaratube.blogspot.com/Serat Bayanullah Pegon.txt\n",
            "Saved /content/drive/Shareddrives/Transliterasi Arab Pegon/TA OCR/Dataset/scraped/aksaratube.blogspot.com/Serat Tegesipun Aksara Alip.txt\n",
            "Saved /content/drive/Shareddrives/Transliterasi Arab Pegon/TA OCR/Dataset/scraped/aksaratube.blogspot.com/Kitab Sunda Waruga Jagad Pegon.txt\n",
            "Saved /content/drive/Shareddrives/Transliterasi Arab Pegon/TA OCR/Dataset/scraped/aksaratube.blogspot.com/Aksara Pegon Dalam TradisI NU.txt\n",
            "Saved /content/drive/Shareddrives/Transliterasi Arab Pegon/TA OCR/Dataset/scraped/mt-syahida.blogspot.com/ترجمة سفينة النجا فيڬون.txt\n",
            "Saved /content/drive/Shareddrives/Transliterasi Arab Pegon/TA OCR/Dataset/scraped/mt-syahida.blogspot.com/TERJEMAH ‎ALHIKAM ‎Bag ‎2.txt\n",
            "Saved /content/drive/Shareddrives/Transliterasi Arab Pegon/TA OCR/Dataset/scraped/mt-syahida.blogspot.com/TERJEMAH ALHIKAM Bag 1.txt\n",
            "Saved /content/drive/Shareddrives/Transliterasi Arab Pegon/TA OCR/Dataset/scraped/mt-syahida.blogspot.com/SIWAK.txt\n",
            "Saved /content/drive/Shareddrives/Transliterasi Arab Pegon/TA OCR/Dataset/scraped/mt-syahida.blogspot.com/JAWAHIRUL MA'ANI.txt\n",
            "Saved /content/drive/Shareddrives/Transliterasi Arab Pegon/TA OCR/Dataset/scraped/mt-syahida.blogspot.com/TAHLIL GUNUNG JATI.txt\n",
            "Saved /content/drive/Shareddrives/Transliterasi Arab Pegon/TA OCR/Dataset/scraped/mt-syahida.blogspot.com/ترجمة عقيدة العوام فيڬون.txt\n",
            "Saved /content/drive/Shareddrives/Transliterasi Arab Pegon/TA OCR/Dataset/scraped/mt-syahida.blogspot.com/ترجمة لباب الحديث فيڬون.txt\n",
            "Saved /content/drive/Shareddrives/Transliterasi Arab Pegon/TA OCR/Dataset/scraped/mt-syahida.blogspot.com/ترجمة الحكم فيڬون.txt\n",
            "Saved /content/drive/Shareddrives/Transliterasi Arab Pegon/TA OCR/Dataset/scraped/mt-syahida.blogspot.com/ترجمة سفينة النجا فيڬون.txt\n",
            "Saved /content/drive/Shareddrives/Transliterasi Arab Pegon/TA OCR/Dataset/scraped/mt-syahida.blogspot.com/SILSILAH WALI SONGO.txt\n",
            "Saved /content/drive/Shareddrives/Transliterasi Arab Pegon/TA OCR/Dataset/scraped/mt-syahida.blogspot.com/CARA PRAKTEK SHOLAT GHOIB.txt\n",
            "Saved /content/drive/Shareddrives/Transliterasi Arab Pegon/TA OCR/Dataset/scraped/mt-syahida.blogspot.com/الطريقة الخضرية Toriqoh Khodliriyyah.txt\n",
            "Saved /content/drive/Shareddrives/Transliterasi Arab Pegon/TA OCR/Dataset/scraped/mt-syahida.blogspot.com/Khasiat Surat Al-Fatihah.txt\n",
            "Saved /content/drive/Shareddrives/Transliterasi Arab Pegon/TA OCR/Dataset/scraped/mt-syahida.blogspot.com/Solawat (Sholawat) Segaf صلوات السقاف.txt\n",
            "Saved /content/drive/Shareddrives/Transliterasi Arab Pegon/TA OCR/Dataset/scraped/mt-syahida.blogspot.com/Do'a JALJALUT.txt\n",
            "Saved /content/drive/Shareddrives/Transliterasi Arab Pegon/TA OCR/Dataset/scraped/mt-syahida.blogspot.com/Wiridan Ba'da Maghrib dan Shubuh.txt\n",
            "Saved /content/drive/Shareddrives/Transliterasi Arab Pegon/TA OCR/Dataset/scraped/mt-syahida.blogspot.com/Al-Fatihah Jami'ah.txt\n",
            "Saved /content/drive/Shareddrives/Transliterasi Arab Pegon/TA OCR/Dataset/scraped/mt-syahida.blogspot.com/NAMA-NAMA KITAB ASWAJA (Ahli Sunnah Wal Jama'ah) YANG PENTING UNTUK DIPUNYAI.txt\n",
            "Saved /content/drive/Shareddrives/Transliterasi Arab Pegon/TA OCR/Dataset/scraped/mt-syahida.blogspot.com/KEISTIMEWAAN MEMPERINGATI MAULID NABI MUHAMMAD  SAW.txt\n",
            "Saved /content/drive/Shareddrives/Transliterasi Arab Pegon/TA OCR/Dataset/scraped/mt-syahida.blogspot.com/KUMPULAN HIZB-HIZB (مجموعة الأحزاب).txt\n",
            "Saved /content/drive/Shareddrives/Transliterasi Arab Pegon/TA OCR/Dataset/scraped/mt-syahida.blogspot.com/Kumpulan ‎Khutbah ‎Bahasa ‎Arab.txt\n",
            "Saved /content/drive/Shareddrives/Transliterasi Arab Pegon/TA OCR/Dataset/scraped/mt-syahida.blogspot.com/DO'A UNTUK KEMASLAHATAN UMMAT ROSULULLOH SAW.txt\n",
            "Saved /content/drive/Shareddrives/Transliterasi Arab Pegon/TA OCR/Dataset/scraped/mt-syahida.blogspot.com/KITAB AS SYAMAIL KARYA IMAM TURMUDZI bil ikhtishor.txt\n"
          ]
        }
      ]
    },
    {
      "cell_type": "code",
      "source": [],
      "metadata": {
        "id": "y4JvBO_pP8L_"
      },
      "execution_count": null,
      "outputs": []
    }
  ]
}